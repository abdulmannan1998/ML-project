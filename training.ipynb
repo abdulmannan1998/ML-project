{
 "cells": [
  {
   "cell_type": "code",
   "execution_count": 96,
   "metadata": {},
   "outputs": [],
   "source": [
    "import numpy as np\n",
    "import pandas as pd\n",
    "import matplotlib.pyplot as plt\n",
    "\n",
    "import tensorflow as tf\n",
    "from keras import backend as K\n",
    "from keras.models import Model\n",
    "from keras.layers import Input, Conv2D, MaxPooling2D, Reshape, Bidirectional, LSTM, Dense, Lambda, Activation, BatchNormalization, Dropout\n",
    "from tensorflow.keras.optimizers import Adam"
   ]
  },
  {
   "cell_type": "code",
   "execution_count": 97,
   "metadata": {},
   "outputs": [],
   "source": [
    "train = pd.read_csv('preprocessed_train.csv')\n",
    "valid = pd.read_csv('preprocessed_valid.csv')"
   ]
  },
  {
   "cell_type": "code",
   "execution_count": 98,
   "metadata": {},
   "outputs": [],
   "source": [
    "train_size = 3000\n",
    "valid_size= 300"
   ]
  },
  {
   "cell_type": "code",
   "execution_count": 99,
   "metadata": {},
   "outputs": [],
   "source": [
    "train_x = []\n",
    "\n",
    "for i in range(train_size):\n",
    "    img_dir = 'processed_train/'+train.loc[i, 'FILENAME']\n",
    "    image = cv2.imread(img_dir, cv2.IMREAD_GRAYSCALE)\n",
    "    train_x.append(image)"
   ]
  },
  {
   "cell_type": "code",
   "execution_count": 100,
   "metadata": {},
   "outputs": [],
   "source": [
    "valid_x = []\n",
    "\n",
    "for i in range(valid_size):\n",
    "    img_dir = 'processed_valid/'+valid.loc[i, 'FILENAME']\n",
    "    image = cv2.imread(img_dir, cv2.IMREAD_GRAYSCALE)\n",
    "    valid_x.append(image)"
   ]
  },
  {
   "cell_type": "code",
   "execution_count": 101,
   "metadata": {},
   "outputs": [],
   "source": [
    "train_x = np.array(train_x).reshape(-1, 256, 64, 1)\n",
    "valid_x = np.array(valid_x).reshape(-1, 256, 64, 1)"
   ]
  },
  {
   "cell_type": "code",
   "execution_count": 102,
   "metadata": {},
   "outputs": [],
   "source": [
    "alphabets = u\"ABCDEFGHIJKLMNOPQRSTUVWXYZ-' \"\n",
    "max_str_len = 34\n",
    "num_of_characters = len(alphabets) + 1\n",
    "num_of_timestamps = 64\n",
    "\n",
    "def label_to_num(label):\n",
    "    label_num = []\n",
    "    for ch in label:\n",
    "        label_num.append(alphabets.find(ch))\n",
    "        \n",
    "    return np.array(label_num)\n",
    "\n",
    "def num_to_label(num):\n",
    "    ret = \"\"\n",
    "    for ch in num:\n",
    "        if ch == -1:  # CTC Blank\n",
    "            break\n",
    "        else:\n",
    "            ret+=alphabets[ch]\n",
    "    return ret"
   ]
  },
  {
   "cell_type": "code",
   "execution_count": 103,
   "metadata": {},
   "outputs": [],
   "source": [
    "train_y = np.ones([train_size, max_str_len]) * -1\n",
    "train_label_len = np.zeros([train_size, 1])\n",
    "train_input_len = np.ones([train_size, 1]) * (num_of_timestamps-2)\n",
    "train_output = np.zeros([train_size])\n",
    "\n",
    "for i in range(train_size):\n",
    "    train_label_len[i] = len(train.loc[i, 'IDENTITY'])\n",
    "    train_y[i, 0:len(train.loc[i, 'IDENTITY'])]= label_to_num(train.loc[i, 'IDENTITY']) "
   ]
  },
  {
   "cell_type": "code",
   "execution_count": 105,
   "metadata": {},
   "outputs": [],
   "source": [
    "valid_y = np.ones([valid_size, max_str_len]) * -1\n",
    "valid_label_len = np.zeros([valid_size, 1])\n",
    "valid_input_len = np.ones([valid_size, 1]) * (num_of_timestamps-2)\n",
    "valid_output = np.zeros([valid_size])\n",
    "\n",
    "for i in range(valid_size):\n",
    "    valid_label_len[i] = len(valid.loc[i, 'IDENTITY'])\n",
    "    valid_y[i, 0:len(valid.loc[i, 'IDENTITY'])]= label_to_num(valid.loc[i, 'IDENTITY']) "
   ]
  },
  {
   "cell_type": "code",
   "execution_count": 106,
   "metadata": {},
   "outputs": [],
   "source": [
    "input_data = Input(shape=(256, 64, 1), name='input')\n",
    "\n",
    "inner = Conv2D(32, (3, 3), padding='same', name='conv1', kernel_initializer='he_normal')(input_data)  \n",
    "inner = BatchNormalization()(inner)\n",
    "inner = Activation('relu')(inner)\n",
    "inner = MaxPooling2D(pool_size=(2, 2), name='max1')(inner)\n",
    "\n",
    "inner = Conv2D(64, (3, 3), padding='same', name='conv2', kernel_initializer='he_normal')(inner)\n",
    "inner = BatchNormalization()(inner)\n",
    "inner = Activation('relu')(inner)\n",
    "inner = MaxPooling2D(pool_size=(2, 2), name='max2')(inner)\n",
    "inner = Dropout(0.3)(inner)\n",
    "\n",
    "inner = Conv2D(128, (3, 3), padding='same', name='conv3', kernel_initializer='he_normal')(inner)\n",
    "inner = BatchNormalization()(inner)\n",
    "inner = Activation('relu')(inner)\n",
    "inner = MaxPooling2D(pool_size=(1, 2), name='max3')(inner)\n",
    "inner = Dropout(0.3)(inner)\n",
    "\n",
    "inner = Reshape(target_shape=((64, 1024)), name='reshape')(inner)\n",
    "inner = Dense(64, activation='relu', kernel_initializer='he_normal', name='dense1')(inner)\n",
    "\n",
    "inner = Bidirectional(LSTM(256, return_sequences=True), name = 'lstm1')(inner)\n",
    "inner = Bidirectional(LSTM(256, return_sequences=True), name = 'lstm2')(inner)\n",
    "\n",
    "inner = Dense(num_of_characters, kernel_initializer='he_normal',name='dense2')(inner)\n",
    "y_pred = Activation('softmax', name='softmax')(inner)\n",
    "\n",
    "model = Model(inputs=input_data, outputs=y_pred)\n",
    "#model.summary()"
   ]
  },
  {
   "cell_type": "code",
   "execution_count": 107,
   "metadata": {},
   "outputs": [],
   "source": [
    "def ctc_lambda_func(args):\n",
    "    y_pred, labels, input_length, label_length = args\n",
    "    y_pred = y_pred[:, 2:, :]\n",
    "    return K.ctc_batch_cost(labels, y_pred, input_length, label_length)"
   ]
  },
  {
   "cell_type": "code",
   "execution_count": 108,
   "metadata": {},
   "outputs": [],
   "source": [
    "labels = Input(name='gtruth_labels', shape=[max_str_len], dtype='float32')\n",
    "input_length = Input(name='input_length', shape=[1], dtype='int64')\n",
    "label_length = Input(name='label_length', shape=[1], dtype='int64')\n",
    "\n",
    "ctc_loss = Lambda(ctc_lambda_func, output_shape=(1,), name='ctc')([y_pred, labels, input_length, label_length])\n",
    "model_final = Model(inputs=[input_data, labels, input_length, label_length], outputs=ctc_loss)"
   ]
  },
  {
   "cell_type": "code",
   "execution_count": 109,
   "metadata": {},
   "outputs": [],
   "source": [
    "model_final.compile(loss={'ctc': lambda y_true, y_pred: y_pred}, optimizer=Adam(learning_rate = 0.0001))"
   ]
  },
  {
   "cell_type": "code",
   "execution_count": 110,
   "metadata": {},
   "outputs": [
    {
     "name": "stdout",
     "output_type": "stream",
     "text": [
      "Epoch 1/60\n",
      "24/24 [==============================] - 28s 483ms/step - loss: 55.4959 - val_loss: 23.6263\n",
      "Epoch 2/60\n",
      "24/24 [==============================] - 8s 354ms/step - loss: 22.7075 - val_loss: 22.6891\n",
      "Epoch 3/60\n",
      "24/24 [==============================] - 9s 357ms/step - loss: 21.2525 - val_loss: 21.8709\n",
      "Epoch 4/60\n",
      "24/24 [==============================] - 9s 362ms/step - loss: 20.9514 - val_loss: 21.6177\n",
      "Epoch 5/60\n",
      "24/24 [==============================] - 9s 356ms/step - loss: 20.7554 - val_loss: 21.5411\n",
      "Epoch 6/60\n",
      "24/24 [==============================] - 9s 357ms/step - loss: 20.6041 - val_loss: 21.4809\n",
      "Epoch 7/60\n",
      "24/24 [==============================] - 9s 356ms/step - loss: 20.4985 - val_loss: 21.3172\n",
      "Epoch 8/60\n",
      "24/24 [==============================] - 9s 359ms/step - loss: 20.4112 - val_loss: 21.1645\n",
      "Epoch 9/60\n",
      "24/24 [==============================] - 9s 358ms/step - loss: 20.3492 - val_loss: 21.0478\n",
      "Epoch 10/60\n",
      "24/24 [==============================] - 9s 359ms/step - loss: 20.2912 - val_loss: 20.9898\n",
      "Epoch 11/60\n",
      "24/24 [==============================] - 9s 358ms/step - loss: 20.2453 - val_loss: 20.9213\n",
      "Epoch 12/60\n",
      "24/24 [==============================] - 9s 359ms/step - loss: 20.2020 - val_loss: 20.8883\n",
      "Epoch 13/60\n",
      "24/24 [==============================] - 9s 360ms/step - loss: 20.1676 - val_loss: 20.8690\n",
      "Epoch 14/60\n",
      "24/24 [==============================] - 9s 361ms/step - loss: 20.1331 - val_loss: 20.8232\n",
      "Epoch 15/60\n",
      "24/24 [==============================] - 9s 358ms/step - loss: 20.0965 - val_loss: 20.8086\n",
      "Epoch 16/60\n",
      "24/24 [==============================] - 9s 357ms/step - loss: 20.0571 - val_loss: 20.7737\n",
      "Epoch 17/60\n",
      "24/24 [==============================] - 9s 358ms/step - loss: 20.0275 - val_loss: 20.7501\n",
      "Epoch 18/60\n",
      "24/24 [==============================] - 9s 358ms/step - loss: 19.9908 - val_loss: 20.6964\n",
      "Epoch 19/60\n",
      "24/24 [==============================] - 9s 358ms/step - loss: 19.9515 - val_loss: 20.6482\n",
      "Epoch 20/60\n",
      "24/24 [==============================] - 9s 357ms/step - loss: 19.9264 - val_loss: 20.6540\n",
      "Epoch 21/60\n",
      "24/24 [==============================] - 9s 360ms/step - loss: 19.8855 - val_loss: 20.5881\n",
      "Epoch 22/60\n",
      "24/24 [==============================] - 9s 356ms/step - loss: 19.8411 - val_loss: 20.5674\n",
      "Epoch 23/60\n",
      "24/24 [==============================] - 9s 359ms/step - loss: 19.8175 - val_loss: 20.5755\n",
      "Epoch 24/60\n",
      "24/24 [==============================] - 9s 358ms/step - loss: 19.7749 - val_loss: 20.5038\n",
      "Epoch 25/60\n",
      "24/24 [==============================] - 8s 355ms/step - loss: 19.7461 - val_loss: 20.4608\n",
      "Epoch 26/60\n",
      "24/24 [==============================] - 9s 356ms/step - loss: 19.7051 - val_loss: 20.4219\n",
      "Epoch 27/60\n",
      "24/24 [==============================] - 9s 357ms/step - loss: 19.6783 - val_loss: 20.3549\n",
      "Epoch 28/60\n",
      "24/24 [==============================] - 8s 352ms/step - loss: 19.6435 - val_loss: 20.3783\n",
      "Epoch 29/60\n",
      "24/24 [==============================] - 8s 350ms/step - loss: 19.6179 - val_loss: 20.3022\n",
      "Epoch 30/60\n",
      "24/24 [==============================] - 9s 360ms/step - loss: 19.5588 - val_loss: 20.2416\n",
      "Epoch 31/60\n",
      "24/24 [==============================] - 9s 355ms/step - loss: 19.5146 - val_loss: 20.2742\n",
      "Epoch 32/60\n",
      "24/24 [==============================] - 9s 356ms/step - loss: 19.4808 - val_loss: 20.1825\n",
      "Epoch 33/60\n",
      "24/24 [==============================] - 9s 356ms/step - loss: 19.4496 - val_loss: 20.1664\n",
      "Epoch 34/60\n",
      "24/24 [==============================] - 9s 355ms/step - loss: 19.4100 - val_loss: 20.1251\n",
      "Epoch 35/60\n",
      "24/24 [==============================] - 9s 357ms/step - loss: 19.3520 - val_loss: 20.0662\n",
      "Epoch 36/60\n",
      "24/24 [==============================] - 9s 356ms/step - loss: 19.3089 - val_loss: 20.0607\n",
      "Epoch 37/60\n",
      "24/24 [==============================] - 9s 356ms/step - loss: 19.2357 - val_loss: 20.0454\n",
      "Epoch 38/60\n",
      "24/24 [==============================] - 9s 356ms/step - loss: 19.1710 - val_loss: 19.9852\n",
      "Epoch 39/60\n",
      "24/24 [==============================] - 9s 356ms/step - loss: 19.1166 - val_loss: 19.8557\n",
      "Epoch 40/60\n",
      "24/24 [==============================] - 9s 356ms/step - loss: 18.9994 - val_loss: 19.7009\n",
      "Epoch 41/60\n",
      "24/24 [==============================] - 9s 356ms/step - loss: 18.9435 - val_loss: 19.6134\n",
      "Epoch 42/60\n",
      "24/24 [==============================] - 9s 356ms/step - loss: 18.7771 - val_loss: 19.5223\n",
      "Epoch 43/60\n",
      "24/24 [==============================] - 9s 355ms/step - loss: 18.6439 - val_loss: 19.4945\n",
      "Epoch 44/60\n",
      "24/24 [==============================] - 9s 356ms/step - loss: 18.6063 - val_loss: 19.3422\n",
      "Epoch 45/60\n",
      "24/24 [==============================] - 9s 355ms/step - loss: 18.4047 - val_loss: 19.2627\n",
      "Epoch 46/60\n",
      "24/24 [==============================] - 9s 355ms/step - loss: 18.2833 - val_loss: 19.2138\n",
      "Epoch 47/60\n",
      "24/24 [==============================] - 9s 357ms/step - loss: 18.1656 - val_loss: 19.0410\n",
      "Epoch 48/60\n",
      "24/24 [==============================] - 9s 357ms/step - loss: 18.0282 - val_loss: 18.9952\n",
      "Epoch 49/60\n",
      "24/24 [==============================] - 9s 358ms/step - loss: 17.9301 - val_loss: 18.8545\n",
      "Epoch 50/60\n",
      "24/24 [==============================] - 9s 355ms/step - loss: 17.7513 - val_loss: 18.8558\n",
      "Epoch 51/60\n",
      "24/24 [==============================] - 9s 356ms/step - loss: 17.6348 - val_loss: 18.8766\n",
      "Epoch 52/60\n",
      "24/24 [==============================] - 9s 355ms/step - loss: 17.5396 - val_loss: 18.6866\n",
      "Epoch 53/60\n",
      "24/24 [==============================] - 9s 356ms/step - loss: 17.3989 - val_loss: 18.8565\n",
      "Epoch 54/60\n",
      "24/24 [==============================] - 9s 357ms/step - loss: 17.2370 - val_loss: 18.4900\n",
      "Epoch 55/60\n",
      "24/24 [==============================] - 9s 358ms/step - loss: 17.1088 - val_loss: 19.0710\n",
      "Epoch 56/60\n",
      "24/24 [==============================] - 9s 357ms/step - loss: 16.9302 - val_loss: 18.5931\n",
      "Epoch 57/60\n",
      "24/24 [==============================] - 9s 356ms/step - loss: 16.8140 - val_loss: 18.7470\n",
      "Epoch 58/60\n",
      "24/24 [==============================] - 9s 356ms/step - loss: 16.6403 - val_loss: 18.7933\n",
      "Epoch 59/60\n",
      "24/24 [==============================] - 9s 360ms/step - loss: 16.4663 - val_loss: 18.9600\n",
      "Epoch 60/60\n",
      "24/24 [==============================] - 9s 356ms/step - loss: 16.2889 - val_loss: 18.8534\n"
     ]
    },
    {
     "data": {
      "text/plain": [
       "<keras.callbacks.History at 0x22c2dde7f10>"
      ]
     },
     "execution_count": 110,
     "metadata": {},
     "output_type": "execute_result"
    }
   ],
   "source": [
    "model_final.fit(x=[train_x, train_y, train_input_len, train_label_len], y=train_output, \n",
    "                validation_data=([valid_x, valid_y, valid_input_len, valid_label_len], valid_output),\n",
    "                epochs=60, batch_size=128)"
   ]
  },
  {
   "cell_type": "code",
   "execution_count": 111,
   "metadata": {},
   "outputs": [],
   "source": [
    "preds = model.predict(valid_x)\n",
    "decoded = K.get_value(K.ctc_decode(preds, input_length=np.ones(preds.shape[0])*preds.shape[1], greedy=True)[0][0])\n",
    "\n",
    "prediction = []\n",
    "for i in range(valid_size):\n",
    "    prediction.append(num_to_label(decoded[i]))"
   ]
  },
  {
   "cell_type": "code",
   "execution_count": 112,
   "metadata": {},
   "outputs": [
    {
     "name": "stdout",
     "output_type": "stream",
     "text": [
      "Correct characters predicted : 6.07%\n",
      "Correct words predicted      : 0.00%\n"
     ]
    }
   ],
   "source": [
    "y_true = valid.loc[0:valid_size, 'IDENTITY']\n",
    "correct_char = 0\n",
    "total_char = 0\n",
    "correct = 0\n",
    "\n",
    "for i in range(valid_size):\n",
    "    pr = prediction[i]\n",
    "    tr = y_true[i]\n",
    "    total_char += len(tr)\n",
    "    \n",
    "    for j in range(min(len(tr), len(pr))):\n",
    "        if tr[j] == pr[j]:\n",
    "            correct_char += 1\n",
    "            \n",
    "    if pr == tr :\n",
    "        correct += 1 \n",
    "    \n",
    "print('Correct characters predicted : %.2f%%' %(correct_char*100/total_char))\n",
    "print('Correct words predicted      : %.2f%%' %(correct*100/valid_size))"
   ]
  }
 ],
 "metadata": {
  "interpreter": {
   "hash": "8ae356e75d36f58ae0a0fbe212380b20cef846d46894bb949c9e4d7fe5e6076c"
  },
  "kernelspec": {
   "display_name": "Python 3.9.7 64-bit ('tf-gpu': conda)",
   "language": "python",
   "name": "python3"
  },
  "language_info": {
   "codemirror_mode": {
    "name": "ipython",
    "version": 3
   },
   "file_extension": ".py",
   "mimetype": "text/x-python",
   "name": "python",
   "nbconvert_exporter": "python",
   "pygments_lexer": "ipython3",
   "version": "3.9.7"
  },
  "orig_nbformat": 4
 },
 "nbformat": 4,
 "nbformat_minor": 2
}
